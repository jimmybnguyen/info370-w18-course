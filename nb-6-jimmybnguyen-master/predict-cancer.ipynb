{
 "cells": [
  {
   "cell_type": "markdown",
   "metadata": {},
   "source": [
    "# Predicting Breast Cancer\n",
    "In this exercise, we'll explore a valuable application of Machine Learning: predicting whether or not tumors are **benign** or **malignant**. We'll use the (real) [Wisconsin Breast Cancer dataset](https://archive.ics.uci.edu/ml/machine-learning-databases/breast-cancer-wisconsin/wdbc.names), that is included in the `sklearn` library. Through this exercise, you'll learn the steps associated with implementing a Machine Learning algorithm.\n",
    "\n",
    "## I'll leave the answer here cause this stuff aint easy"
   ]
  },
  {
   "cell_type": "markdown",
   "metadata": {},
   "source": [
    "## Set up"
   ]
  },
  {
   "cell_type": "code",
   "execution_count": 29,
   "metadata": {
    "collapsed": true
   },
   "outputs": [],
   "source": [
    "# Import libraries\n",
    "import pandas as pd\n",
    "import numpy as np\n",
    "import matplotlib.pyplot as plt\n",
    "%matplotlib inline\n",
    "\n",
    "# Import the dataset from sklearn\n",
    "from sklearn.datasets import load_breast_cancer\n",
    "data = load_breast_cancer()\n",
    "\n",
    "# Convert to Pandas dataframe for some exploration\n",
    "data_pd = pd.DataFrame(columns=data.feature_names, data=data.data)\n",
    "data_pd['outcome'] = data.target"
   ]
  },
  {
   "cell_type": "markdown",
   "metadata": {},
   "source": [
    "## Our First Machine Learning Model: A Decision Tree\n",
    "Without doing any pre-processing (or considering the idea of training/testing data), let's try implementing our first machine learning model, a **Decision Tree**. Like any model, it will involve a few steps (to be elaborated upon as we go):\n",
    "\n",
    "- **Import** your model from `sklearn`\n",
    "- **Create** your model with the desired parameters\n",
    "- **Fit** your model to the data\n",
    "- **Assess** performance of the model"
   ]
  },
  {
   "cell_type": "code",
   "execution_count": 30,
   "metadata": {
    "collapsed": true
   },
   "outputs": [],
   "source": [
    "# Import your model, a decision tree classifier (typically imported at the beginning of your script)\n",
    "from sklearn.tree import DecisionTreeClassifier"
   ]
  },
  {
   "cell_type": "code",
   "execution_count": 31,
   "metadata": {},
   "outputs": [
    {
     "data": {
      "text/plain": [
       "DecisionTreeClassifier(class_weight=None, criterion='gini', max_depth=None,\n",
       "            max_features=None, max_leaf_nodes=None,\n",
       "            min_impurity_decrease=0.0, min_impurity_split=None,\n",
       "            min_samples_leaf=1, min_samples_split=2,\n",
       "            min_weight_fraction_leaf=0.0, presort=False, random_state=11,\n",
       "            splitter='best')"
      ]
     },
     "execution_count": 31,
     "metadata": {},
     "output_type": "execute_result"
    }
   ],
   "source": [
    "# Create a classifier, then fit the model to your data (creating a decision tree)\n",
    "# To ensure consistent results, we can use the random_state parameter\n",
    "tree_clf = DecisionTreeClassifier(random_state = 11)\n",
    "tree_fit = tree_clf.fit(data.data, data.target)\n",
    "tree_fit"
   ]
  },
  {
   "cell_type": "code",
   "execution_count": 32,
   "metadata": {},
   "outputs": [
    {
     "data": {
      "text/plain": [
       "1.0"
      ]
     },
     "execution_count": 32,
     "metadata": {},
     "output_type": "execute_result"
    }
   ],
   "source": [
    "# Assess the fit of our data by generating predictions using your data\n",
    "# Then calculate the accuracy (percentage of the time that the predictions equal the data)\n",
    "tree_preds = tree_fit.predict(data.data)\n",
    "acc = (tree_preds == data.target).sum() / len(data.target)\n",
    "acc"
   ]
  },
  {
   "cell_type": "markdown",
   "metadata": {},
   "source": [
    "## Training and Testing Data\n",
    "In actual machine learning applications, the intention is to **predict unknown values**. In the example above, you were able to perfectly predict the values because _your model has seen them_. To simulate a _real world_ application, it's necessary to **hide testing data from your model**, and then use your hidden (**test**) data to assess your performance. This can easily be achieved using the `test_train_split` method from `sklearn`. We'll augment our machine learning process to now include splitting our dataset into testing and training data:\n",
    "\n",
    "\n",
    "\n",
    "- **Import** your model\n",
    "- **Create** your model\n",
    "- <span style=\"color:red\">**Split** data into training and testing data</span>\n",
    "- **Fit** your model to **training** data\n",
    "- **Assess** performance of the model on your **test** data"
   ]
  },
  {
   "cell_type": "code",
   "execution_count": 33,
   "metadata": {
    "collapsed": true
   },
   "outputs": [],
   "source": [
    "# Split your data into test and training data with a test size of 30% (.3)\n",
    "from sklearn.model_selection import train_test_split # typically done at the start of the script\n",
    "\n",
    "train_features, test_features, train_outcome, test_outcome = train_test_split(data.data, data.target, \n",
    "                                                                                random_state = 11, test_size = 0.3)\n"
   ]
  },
  {
   "cell_type": "code",
   "execution_count": 34,
   "metadata": {
    "collapsed": true
   },
   "outputs": [],
   "source": [
    "# Fit the classifier -- from above -- using our (training) data \n",
    "tree_fit = tree_clf.fit(train_features, train_outcome)"
   ]
  },
  {
   "cell_type": "code",
   "execution_count": 35,
   "metadata": {},
   "outputs": [
    {
     "data": {
      "text/plain": [
       "0.94736842105263153"
      ]
     },
     "execution_count": 35,
     "metadata": {},
     "output_type": "execute_result"
    }
   ],
   "source": [
    "# Assess the model using our (test) data. \n",
    "# You can import and use the `accuracy_score` fucntion rather than manually computing it\n",
    "from sklearn.metrics import accuracy_score\n",
    "\n",
    "tree_preds = tree_fit.predict(test_features)\n",
    "\n",
    "accuracy_score(tree_preds, test_outcome)"
   ]
  },
  {
   "cell_type": "code",
   "execution_count": 36,
   "metadata": {
    "collapsed": true
   },
   "outputs": [],
   "source": [
    "# Not required: use graphviz to visualize your tree\n",
    "#import graphviz\n",
    "from sklearn import tree \n",
    "tree.export_graphviz(tree_clf, feature_names=data.feature_names, class_names=['Benign', 'Malig.'], out_file=\"mytree.dot\")\n",
    "# To conver, you'll need to install graphviz: conda install graphviz\n",
    "# Then on your terminal: dot -Tpng mytree.dot -o mytree.png"
   ]
  },
  {
   "cell_type": "markdown",
   "metadata": {},
   "source": [
    "## Our Second Model: K-Nearest Neighbors\n",
    "K-Nearest Neighbors is a very simple algorithm. To identify the classification of any observation (row), we simply need to look at the class of K similar points. This introduces two new questions:\n",
    "\n",
    "1. How do we decide on the number of neighbors to use for classifying any given point (K)?\n",
    "2. How do we calculate distance when our features (columns) are in different units?\n",
    "\n",
    "We'll address each of these challenges in the following sections. However, we'll start by simply implementing the algorithm (which will follow the same process as other algorithms). "
   ]
  },
  {
   "cell_type": "code",
   "execution_count": 37,
   "metadata": {
    "collapsed": true
   },
   "outputs": [],
   "source": [
    "# Import and create a KNN classifier that uses the 4 nearest points\n",
    "from sklearn.neighbors import KNeighborsClassifier\n",
    "knn_clf = KNeighborsClassifier(n_neighbors = 4)"
   ]
  },
  {
   "cell_type": "code",
   "execution_count": 38,
   "metadata": {
    "collapsed": true
   },
   "outputs": [],
   "source": [
    "# Fit the model to our (training) data, and use it to predict on our *test data*\n",
    "knn_fit = knn_clf.fit(train_features, train_outcome)\n",
    "knn_preds = knn_fit.predict(test_features)"
   ]
  },
  {
   "cell_type": "code",
   "execution_count": 39,
   "metadata": {},
   "outputs": [
    {
     "data": {
      "text/plain": [
       "0.91812865497076024"
      ]
     },
     "execution_count": 39,
     "metadata": {},
     "output_type": "execute_result"
    }
   ],
   "source": [
    "# Assess the accuracy of the model\n",
    "accuracy_score(knn_preds, test_outcome)"
   ]
  },
  {
   "cell_type": "markdown",
   "metadata": {},
   "source": [
    "### Picking the number of neighbors (K)\n",
    "In the above section, we arbitrarily used the number **4** for K. We want to use a data driven process for picking this value. Because we **don't look at the test data** until the end, we need another strategy for assessing model parameters. To do this, we can further split the training data into a **validation set** (think of this as a mini-test set), which we can use to search for the best value of **K**. Our process now involves:\n",
    "\n",
    "\n",
    "- **Import** your model\n",
    "- **Create** your model\n",
    "- **Split** data into training and testing data\n",
    "- <span style=\"color:red\">**Split** _training_ data into (smaller) training and **validation** data</span>\n",
    "- **Fit** your model to (smaller) **training** data\n",
    "- <span style=\"color:red\">**Assess** performance of the model on your **validation** data to tweak parameters</span>\n",
    "- **Assess** performance of the model on your **test** data\n"
   ]
  },
  {
   "cell_type": "code",
   "execution_count": 40,
   "metadata": {
    "collapsed": true
   },
   "outputs": [],
   "source": [
    "# Let's crete a validation set by sampling 20% (.2) out of the *training* data\n",
    "# We can use the `train_test_set` function as before\n",
    "train_features_small, validation_features, train_outcome_small, validation_outcome = train_test_split(train_features, train_outcome, test_size = 0.2, random_state = 11)"
   ]
  },
  {
   "cell_type": "code",
   "execution_count": 41,
   "metadata": {},
   "outputs": [
    {
     "data": {
      "text/plain": [
       "{1: 0.90000000000000002,\n",
       " 2: 0.92500000000000004,\n",
       " 3: 0.91249999999999998,\n",
       " 4: 0.92500000000000004,\n",
       " 5: 0.92500000000000004,\n",
       " 6: 0.9375,\n",
       " 7: 0.9375,\n",
       " 8: 0.92500000000000004,\n",
       " 9: 0.92500000000000004}"
      ]
     },
     "execution_count": 41,
     "metadata": {},
     "output_type": "execute_result"
    }
   ],
   "source": [
    "# Let's assess accuracies of K from 1 through 10. To do this, loop through values of K, \n",
    "# and in each loop:\n",
    "# - Create a new classifier using K as the number of neighbors, \n",
    "# - Fit the classifier to the (small) training data (without validation data)\n",
    "# - Generate a set of predictions using the validation data\n",
    "# - Compute the accuracy of your model on your validation data\n",
    "\n",
    "accuracies = {}\n",
    "\n",
    "for k in np.arange(1,10):\n",
    "    knn_clf = KNeighborsClassifier(n_neighbors = k)\n",
    "    knn_fit = knn_clf.fit(train_features_small, train_outcome_small)\n",
    "    knn_preds = knn_fit.predict(validation_features)\n",
    "    accuracies[k] = accuracy_score(knn_preds, validation_outcome)\n",
    "accuracies"
   ]
  },
  {
   "cell_type": "code",
   "execution_count": 42,
   "metadata": {},
   "outputs": [
    {
     "data": {
      "text/plain": [
       "0.93567251461988299"
      ]
     },
     "execution_count": 42,
     "metadata": {},
     "output_type": "execute_result"
    }
   ],
   "source": [
    "# Now that you know the best value of K based on your *validation* data, \n",
    "# Run the KNN with the optimal value of K on the *test* data to assess your performance\n",
    "knn_clf = KNeighborsClassifier(n_neighbors = 6)\n",
    "\n",
    "# Train on all of our train data. Add validation to previous data\n",
    "knn_fit = knn_clf.fit(train_features, train_outcome)\n",
    "knn_preds = knn_fit.predict(test_features)\n",
    "accuracy_score(knn_preds, test_outcome)"
   ]
  },
  {
   "cell_type": "markdown",
   "metadata": {},
   "source": [
    "## Cross Validation\n",
    "In the above example, we created a **single** validation dataset from our training data. However, because this sampling is **random**, we may have gotten a certain subset of the training set simply **by chance**. The most popular strategy for solving this issue (and therefore better leveraging the information in our _training data_) is called **cross validation**. \n",
    "\n",
    "There are a number of strategies for cross-validation, but the philosophy is the same: split the training data into a (smaller) training and a validation set **multiple times**. For example, a popular approach is the **K Fold** cross validation which splits the data into **K** folds (_not_ to be confused with the **K** from **KNN**). Then, each _fold_ of the data is used as the validation set one time. This allows each observation to appear in the validation set one time. You then assess model performance for each fold, and pick your best model based on the **average** performance across the folds. \n",
    "\n",
    "Luckily, the `sklearn` toolkit has a variety of built-in methods for performing this process. This is really only a minor change to our process:\n",
    "\n",
    "- **Import** your model\n",
    "- **Create** your model\n",
    "- **Split** data into training and testing data\n",
    "- <span style=\"text-decoration:line-through\">**Split** _training_ data into (smaller) training and **validation** data</span> (accomplished in new step below)\n",
    "- <span style=\"color:red\">**Fit** and **assess** your model using `cross_val_score` to fit the model on different _folds_ of validation data</span>\n",
    "- <span style=\"text-decoration:line-through\">**Assess** performance of the model on your **validation** data to tweak parameters</span> (accomplished in new step above)\n",
    "- **Assess** performance of the model on your **test** data"
   ]
  },
  {
   "cell_type": "code",
   "execution_count": 43,
   "metadata": {},
   "outputs": [
    {
     "data": {
      "text/plain": [
       "0.91948717948717962"
      ]
     },
     "execution_count": 43,
     "metadata": {},
     "output_type": "execute_result"
    }
   ],
   "source": [
    "# Use cross validation (`cross_val_score`) to test a classifier across 10 different splits of the data\n",
    "# Use a K value of 3 for your KNN.\n",
    "# Notice the huge variation in performance across folds!\n",
    "from sklearn.model_selection import KFold\n",
    "from sklearn.model_selection import cross_val_score\n",
    "\n",
    "scores = cross_val_score(KNeighborsClassifier(3), train_features, train_outcome, cv=KFold(n_splits = 10, shuffle=True, random_state=11))\n",
    "\n",
    "# Find average accuracy\n",
    "np.mean(scores)"
   ]
  },
  {
   "cell_type": "markdown",
   "metadata": {},
   "source": [
    "## Grid Search\n",
    "Unfortunately, the above code only runs a **single model** across **K** different _folds_ of the data. What we really want to do is iterate over our parameter space (the number of different **neighbors**) for each of the folds. While this would be simple enough to write as a loop, we can easily use the **grid search** functionality built into the `sklearn` toolkit. The benefit is that grid search will seach over a _grid_ of **all parameters** of interest regarding your model (while we only have one current parameter to optimize, we could have many). This will allow you to quickly identify the optimal set of parameters for your model. \n",
    "\n",
    "\n",
    "- **Import** your model\n",
    "- **Create** your model\n",
    "- **Split** data into training and testing data\n",
    "- <span style=\"text-decoration:line-through\">**Fit** and **assess** your model using `cross_val_score` to fit the model on different _folds_ of validation data</span>\n",
    "- <span style=\"color:red\">**Fit** and **assess** models using `grid_search` to fit multiple models using **different parameters** on different _folds_ of validation data</span>\n",
    "- <span style=\"text-decoration:line-through\">**Assess** performance of the model on your **validation** data to tweak parameters</span> (accomplished in new step above)\n",
    "- **Assess** performance of the (best) model on your **test** data"
   ]
  },
  {
   "cell_type": "code",
   "execution_count": 44,
   "metadata": {
    "collapsed": true
   },
   "outputs": [],
   "source": [
    "# Import the `GridSearchCV` model, and specify a grid of parameters\n",
    "# This will try all possible combination of parameters in a brute force way\n",
    "# And, it will run cross validation on each combination of parameters\n",
    "from sklearn.model_selection import GridSearchCV\n",
    "\n",
    "param_grid = {'n_neighbors': np.arange(1,50)}"
   ]
  },
  {
   "cell_type": "code",
   "execution_count": 45,
   "metadata": {},
   "outputs": [
    {
     "data": {
      "text/plain": [
       "GridSearchCV(cv=10, error_score='raise',\n",
       "       estimator=KNeighborsClassifier(algorithm='auto', leaf_size=30, metric='minkowski',\n",
       "           metric_params=None, n_jobs=1, n_neighbors=5, p=2,\n",
       "           weights='uniform'),\n",
       "       fit_params=None, iid=True, n_jobs=1,\n",
       "       param_grid={'n_neighbors': array([ 1,  2,  3,  4,  5,  6,  7,  8,  9, 10, 11, 12, 13, 14, 15, 16, 17,\n",
       "       18, 19, 20, 21, 22, 23, 24, 25, 26, 27, 28, 29, 30, 31, 32, 33, 34,\n",
       "       35, 36, 37, 38, 39, 40, 41, 42, 43, 44, 45, 46, 47, 48, 49])},\n",
       "       pre_dispatch='2*n_jobs', refit=True, return_train_score='warn',\n",
       "       scoring=None, verbose=0)"
      ]
     },
     "execution_count": 45,
     "metadata": {},
     "output_type": "execute_result"
    }
   ],
   "source": [
    "# Create a grid search estimator for your KNN classifier\n",
    "# When fit, this will search the parameter grid using cross validation\n",
    "\n",
    "# Note that we don't pass any parameters directly into KN function\n",
    "grid_search = GridSearchCV(KNeighborsClassifier(), param_grid, cv=10)\n",
    "grid_search"
   ]
  },
  {
   "cell_type": "code",
   "execution_count": 46,
   "metadata": {},
   "outputs": [
    {
     "data": {
      "text/plain": [
       "GridSearchCV(cv=10, error_score='raise',\n",
       "       estimator=KNeighborsClassifier(algorithm='auto', leaf_size=30, metric='minkowski',\n",
       "           metric_params=None, n_jobs=1, n_neighbors=5, p=2,\n",
       "           weights='uniform'),\n",
       "       fit_params=None, iid=True, n_jobs=1,\n",
       "       param_grid={'n_neighbors': array([ 1,  2,  3,  4,  5,  6,  7,  8,  9, 10, 11, 12, 13, 14, 15, 16, 17,\n",
       "       18, 19, 20, 21, 22, 23, 24, 25, 26, 27, 28, 29, 30, 31, 32, 33, 34,\n",
       "       35, 36, 37, 38, 39, 40, 41, 42, 43, 44, 45, 46, 47, 48, 49])},\n",
       "       pre_dispatch='2*n_jobs', refit=True, return_train_score='warn',\n",
       "       scoring=None, verbose=0)"
      ]
     },
     "execution_count": 46,
     "metadata": {},
     "output_type": "execute_result"
    }
   ],
   "source": [
    "# Fit the grid search to your training data\n",
    "grid_search.fit(train_features, train_outcome)"
   ]
  },
  {
   "cell_type": "code",
   "execution_count": 47,
   "metadata": {},
   "outputs": [
    {
     "data": {
      "text/plain": [
       "KNeighborsClassifier(algorithm='auto', leaf_size=30, metric='minkowski',\n",
       "           metric_params=None, n_jobs=1, n_neighbors=15, p=2,\n",
       "           weights='uniform')"
      ]
     },
     "execution_count": 47,
     "metadata": {},
     "output_type": "execute_result"
    }
   ],
   "source": [
    "# Predict and assess performance on your **test** data\n",
    "grid_search.score(test_features, test_outcome)\n",
    "grid_search.best_estimator_\n",
    "grid_search.best_estimator_.fit(test_features, test_outcome)"
   ]
  },
  {
   "cell_type": "code",
   "execution_count": 48,
   "metadata": {},
   "outputs": [
    {
     "data": {
      "image/png": "[encoded data removed]",
      "text/plain": [
       "<matplotlib.figure.Figure at 0x1a16e28e48>"
      ]
     },
     "metadata": {},
     "output_type": "display_data"
    }
   ],
   "source": [
    "# Visualze performance across neighbors N values\n",
    "test_scores = grid_search.cv_results_['mean_test_score']\n",
    "\n",
    "plt.plot(param_grid['n_neighbors'], test_scores)\n",
    "plt.xlabel('Number of Neighbors')\n",
    "plt.ylabel('Average Accuracy across CV folds')\n",
    "plt.show()"
   ]
  },
  {
   "cell_type": "markdown",
   "metadata": {},
   "source": [
    "## Normalizing Data\n",
    "Because KNN uses a distance based metric to compute similarity, it's important to **normalize** each column to the same scale before running the algorithm. Note, some rule based estimators (like decision trees) aren't sensitive to feature scale (and don't need to be normalized). For example, we can use a `MinMaxScaler` that subracts the minimum, and divides by the difference between the minimum and the maximum of each column.\n",
    "\n",
    "In order to not **leak information** from out test data into our training data, it's important to normalize our data **after** splitting. We'll worry about integrating this into our process after experimenting with it in the section below."
   ]
  },
  {
   "cell_type": "code",
   "execution_count": 49,
   "metadata": {
    "collapsed": true
   },
   "outputs": [],
   "source": [
    "# Manually scale (pre-process) our *training features* (not the outcome!) data\n",
    "\n",
    "# x_new = (x - x_min) / (x_max - x_min)\n",
    "train_features_scaled = (train_features - train_features.min(axis=0)) / (train_features.max(axis=0) - train_features.min(axis=0))"
   ]
  },
  {
   "cell_type": "code",
   "execution_count": 50,
   "metadata": {},
   "outputs": [
    {
     "data": {
      "text/plain": [
       "True"
      ]
     },
     "execution_count": 50,
     "metadata": {},
     "output_type": "execute_result"
    }
   ],
   "source": [
    "# Alternatively, we could use a built in Scaler\n",
    "from sklearn.preprocessing import MinMaxScaler\n",
    "\n",
    "scaler = MinMaxScaler()\n",
    "train_scaled_alt = scaler.fit_transform(train_features)\n",
    "np.all(np.round(train_features_scaled, 5) == np.round(train_scaled_alt, 5))"
   ]
  },
  {
   "cell_type": "code",
   "execution_count": 51,
   "metadata": {},
   "outputs": [],
   "source": [
    "# Fit a knn classifier with the scaled training data\n",
    "scaled_fit = knn_clf.fit(train_features_scaled, train_outcome)"
   ]
  },
  {
   "cell_type": "code",
   "execution_count": 52,
   "metadata": {},
   "outputs": [
    {
     "data": {
      "text/plain": [
       "0.94736842105263153"
      ]
     },
     "execution_count": 52,
     "metadata": {},
     "output_type": "execute_result"
    }
   ],
   "source": [
    "# Generate predictions using *scaled test data*\n",
    "test_features_scaled = scaler.fit_transform(test_features)\n",
    "accuracy_score(scaled_fit.predict(test_features_scaled), test_outcome)"
   ]
  },
  {
   "cell_type": "markdown",
   "metadata": {},
   "source": [
    "## Making Pipelines\n",
    "Our final challenge is determining how to integrate the data scaling into our cross validation process. For **each set** of possible model parameters, we need to:\n",
    "\n",
    "- **Split** our (training) data into training and validation sets\n",
    "- **Normalize**/scale each training set\n",
    "- **Assess** the model on all validation sets\n",
    "\n",
    "\n",
    "While we could write the iterators to do this ourselves, this is a problem that is already solved using **Pipelines**. The `GridSearchCV` class is structured to take as an argument a _pipeline_ object, which includes each transformation or calculation you want to perform on your data. For example\n",
    "\n",
    "```python\n",
    "# Define scaler, classifier, and pipeline to use\n",
    "scaler = MinMaxScaler()\n",
    "knn_clf = KNeighborsClassifier()\n",
    "pipe = make_pipeline(scaler, knn_clf)\n",
    "\n",
    "# Define grid for pipeline (indicates which arguments are for which classes)\n",
    "param_grid = {'kneighborsclassifier__n_neighbors': [1, 3, 5, 10]}\n",
    "\n",
    "# Search through and perform cross validation\n",
    "grid = GridSearchCV(pipe, param_grid)\n",
    "```\n",
    "\n",
    "Our final process will be:\n",
    "\n",
    "- **Import** your model\n",
    "- **Create** your model\n",
    "- **Split** data into training and testing data\n",
    "- **Create** your normalization (scaling) function\n",
    "- **Define** a **pipeline** that will implement your pre-processing and your model\n",
    "- **Fit** and **assess** models using `grid_search` to fit multiple models using **different parameters** on different _folds_ of validation data</span>\n",
    "- **Assess** performance of the (best) model on your **test** data"
   ]
  },
  {
   "cell_type": "code",
   "execution_count": 53,
   "metadata": {
    "collapsed": true
   },
   "outputs": [],
   "source": [
    "# Import pipeline, and define your pipeline that will\n",
    "# - Transform you data using a MinMaxScaler\n",
    "# - Fit a KNN classifier\n",
    "from sklearn.pipeline import make_pipeline\n",
    "\n",
    "scaler = MinMaxScaler()\n",
    "knn_clf = KNeighborsClassifier()\n",
    "pipe = make_pipeline(scaler, knn_clf)"
   ]
  },
  {
   "cell_type": "code",
   "execution_count": 54,
   "metadata": {},
   "outputs": [
    {
     "data": {
      "text/plain": [
       "GridSearchCV(cv=None, error_score='raise',\n",
       "       estimator=Pipeline(memory=None,\n",
       "     steps=[('minmaxscaler', MinMaxScaler(copy=True, feature_range=(0, 1))), ('kneighborsclassifier', KNeighborsClassifier(algorithm='auto', leaf_size=30, metric='minkowski',\n",
       "           metric_params=None, n_jobs=1, n_neighbors=5, p=2,\n",
       "           weights='uniform'))]),\n",
       "       fit_params=None, iid=True, n_jobs=1,\n",
       "       param_grid={'kneighborsclassifier__n_neighbors': array([ 1,  2,  3,  4,  5,  6,  7,  8,  9, 10, 11, 12, 13, 14, 15, 16, 17,\n",
       "       18, 19, 20, 21, 22, 23, 24, 25, 26, 27, 28, 29, 30, 31, 32, 33, 34,\n",
       "       35, 36, 37, 38, 39, 40, 41, 42, 43, 44, 45, 46, 47, 48, 49])},\n",
       "       pre_dispatch='2*n_jobs', refit=True, return_train_score='warn',\n",
       "       scoring=None, verbose=0)"
      ]
     },
     "execution_count": 54,
     "metadata": {},
     "output_type": "execute_result"
    }
   ],
   "source": [
    "# Pass your pipeline to a grid search, specifying a set of neighbors to assess\n",
    "\n",
    "param_grid = {'kneighborsclassifier__n_neighbors': np.arange(1,50)}\n",
    "grid = GridSearchCV(pipe, param_grid)\n",
    "grid.fit(train_features, train_outcome)"
   ]
  },
  {
   "cell_type": "code",
   "execution_count": 55,
   "metadata": {},
   "outputs": [
    {
     "data": {
      "text/plain": [
       "{'kneighborsclassifier__n_neighbors': 4}"
      ]
     },
     "execution_count": 55,
     "metadata": {},
     "output_type": "execute_result"
    }
   ],
   "source": [
    "grid.best_params_"
   ]
  },
  {
   "cell_type": "code",
   "execution_count": 56,
   "metadata": {},
   "outputs": [
    {
     "data": {
      "text/plain": [
       "0.98245614035087714"
      ]
     },
     "execution_count": 56,
     "metadata": {},
     "output_type": "execute_result"
    }
   ],
   "source": [
    "grid.score(test_features, test_outcome)"
   ]
  }
 ],
 "metadata": {
  "kernelspec": {
   "display_name": "Python 3",
   "language": "python",
   "name": "python3"
  },
  "language_info": {
   "codemirror_mode": {
    "name": "ipython",
    "version": 3
   },
   "file_extension": ".py",
   "mimetype": "text/x-python",
   "name": "python",
   "nbconvert_exporter": "python",
   "pygments_lexer": "ipython3",
   "version": "3.6.4"
  }
 },
 "nbformat": 4,
 "nbformat_minor": 2
}
