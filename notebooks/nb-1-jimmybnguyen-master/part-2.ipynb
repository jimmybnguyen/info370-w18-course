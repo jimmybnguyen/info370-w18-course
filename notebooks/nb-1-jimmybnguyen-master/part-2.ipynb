{
 "cells": [
  {
   "cell_type": "markdown",
   "metadata": {},
   "source": [
    "# Web scraping\n",
    "A common data collection task is to collect data from web pages and transform them into an analysis ready format. In this exercise, you'll be scraping the [Informatics Course Information](https://www.washington.edu/students/crscat/info.html) page to ask some basic questions about the courses offered."
   ]
  },
  {
   "cell_type": "markdown",
   "metadata": {},
   "source": [
    "## Set up\n",
    "In order to use the python libraries, we'll need to ensure they're installed on your machine. You can do this easily by running the following command(s) on your terminal\n",
    "\n",
    "_Install beautifulsoup using pip on the terminal_:\n",
    "\n",
    "`pip install beautifulsoup4`"
   ]
  },
  {
   "cell_type": "markdown",
   "metadata": {},
   "source": [
    "## Scraping"
   ]
  },
  {
   "cell_type": "code",
   "execution_count": 1,
   "metadata": {},
   "outputs": [],
   "source": [
    "# Import beautiful soup\n"
   ]
  },
  {
   "cell_type": "code",
   "execution_count": 2,
   "metadata": {},
   "outputs": [],
   "source": [
    "# Use the `get` method of the requests library to fetch the page content\n"
   ]
  },
  {
   "cell_type": "code",
   "execution_count": 3,
   "metadata": {},
   "outputs": [],
   "source": [
    "# Use bs to parse the HTML returned\n"
   ]
  },
  {
   "cell_type": "code",
   "execution_count": 4,
   "metadata": {
    "scrolled": true
   },
   "outputs": [],
   "source": [
    "# We can now use the `find_all` method to find all course title elements\n",
    "# Store the *text* of the course titles in variable\n",
    "# Hint: You'll need to review the HTML to figure out how to identify them\n",
    "# Hint: use a list compression!\n"
   ]
  },
  {
   "cell_type": "code",
   "execution_count": 5,
   "metadata": {},
   "outputs": [],
   "source": [
    "# We can now use the `find_all` method to find all course description elements\n",
    "# Store the *text* of the course description in variable\n",
    "# Hint: You'll need to review the HTML to figure out how to identify them\n",
    "# Hint: you may have to skip certain elements...\n"
   ]
  },
  {
   "cell_type": "markdown",
   "metadata": {},
   "source": [
    "## Data processing\n",
    "Now that you have the data, we'll re-structure it so that we can easily ask questions about the data"
   ]
  },
  {
   "cell_type": "code",
   "execution_count": 6,
   "metadata": {
    "scrolled": false
   },
   "outputs": [],
   "source": [
    "# Create a dictionary where the *keys are course numbers*, and the values are *dictionaries* \n",
    "# With the following values: \n",
    "#     - \"title\": title of the course (from above)\n",
    "#     - \"description\": description of the course (from above)\n",
    "#     - \"credits\": can be a string of the number of credits (some are a range)\n",
    "#     - \"level\": 100, 200, 300, or 400 (an *integer*)\n",
    "#     - \"meets_requirements\": string of requriment(s) met (i.e., VLPA, I&S, etc.)\n",
    "# Hint: state with an empty dictionary use a loop, keeping track of the *index* \n",
    "# Hint: think of creative ways to get the credits/level from your string\n"
   ]
  },
  {
   "cell_type": "markdown",
   "metadata": {},
   "source": [
    "## Asking questions of the data\n",
    "Now we can filter the dataset to ask questions of interest"
   ]
  },
  {
   "cell_type": "code",
   "execution_count": 7,
   "metadata": {},
   "outputs": [],
   "source": [
    "# How many courses are 300 level courses?\n",
    "# Hint: use a list compression! \n"
   ]
  },
  {
   "cell_type": "code",
   "execution_count": 8,
   "metadata": {
    "scrolled": true
   },
   "outputs": [],
   "source": [
    "# What are the course titles of courses that meet *some* university requirement?\n"
   ]
  },
  {
   "cell_type": "code",
   "execution_count": 9,
   "metadata": {},
   "outputs": [],
   "source": [
    "# Write a function that takes in your courses object and a course level (100, 200, etc.) and \n",
    "# returns all of the *course titles* of courses that are that level\n"
   ]
  },
  {
   "cell_type": "code",
   "execution_count": 10,
   "metadata": {},
   "outputs": [],
   "source": [
    "# Demonstrate that your function works\n",
    "    "
   ]
  }
 ],
 "metadata": {
  "kernelspec": {
   "display_name": "Python 3",
   "language": "python",
   "name": "python3"
  },
  "language_info": {
   "codemirror_mode": {
    "name": "ipython",
    "version": 3
   },
   "file_extension": ".py",
   "mimetype": "text/x-python",
   "name": "python",
   "nbconvert_exporter": "python",
   "pygments_lexer": "ipython3",
   "version": "3.6.4"
  }
 },
 "nbformat": 4,
 "nbformat_minor": 2
}
