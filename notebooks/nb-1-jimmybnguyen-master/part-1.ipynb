{
 "cells": [
  {
   "cell_type": "markdown",
   "metadata": {},
   "source": [
    "# Getting Started\n",
    "\n",
    "In this exercise, you'll get familiar with the following basics of python:\n",
    "\n",
    "- Creating variables (lists, dictionaries)\n",
    "- Writing functions\n",
    "- List compressions"
   ]
  },
  {
   "cell_type": "markdown",
   "metadata": {},
   "source": [
    "# Basic variables\n",
    "Variables in python are loosely typed, so you can quickly create numeric, character, or boolean values. Variable names should be expressive, and be written as lower-case words that are underscore separated (i.e., `variable_name`)"
   ]
  },
  {
   "cell_type": "code",
   "execution_count": 1,
   "metadata": {},
   "outputs": [],
   "source": [
    "# Create a numeric variable `hours_in_a_year` equal to the number of hours in a year\n"
   ]
  },
  {
   "cell_type": "code",
   "execution_count": 2,
   "metadata": {},
   "outputs": [],
   "source": [
    "# Create a numeric variable `seconds_in_a_day` equal to the number of seconds in a day\n"
   ]
  },
  {
   "cell_type": "code",
   "execution_count": 3,
   "metadata": {},
   "outputs": [],
   "source": [
    "# Create a boolean variable `more_seconds_than_hours` that is true \n",
    "# if there are more seconds in a day than hours in a year\n"
   ]
  },
  {
   "cell_type": "code",
   "execution_count": 4,
   "metadata": {},
   "outputs": [],
   "source": [
    "# Print out all 3 of your variables\n"
   ]
  },
  {
   "cell_type": "code",
   "execution_count": 5,
   "metadata": {},
   "outputs": [],
   "source": [
    "# Create and print a character variable `learned` that holds the string:\n",
    "# \"I just learned that there are X hours in a year, and Y seconds in a day\"\n",
    "# Replace X and Y with the values from above\n"
   ]
  },
  {
   "cell_type": "markdown",
   "metadata": {},
   "source": [
    "# Lists and Dictionaries\n",
    "\n",
    "## Lists\n",
    "A **list** is a mutable, ordered sequence of values that are all stored in a single variable. You can create a list of elements by placing comma separated values inside of square brackets. Note, elements may be of different types.\n"
   ]
  },
  {
   "cell_type": "code",
   "execution_count": 6,
   "metadata": {},
   "outputs": [],
   "source": [
    "# Create a list `friends` that has a list of 3 of your friends' names in it\n"
   ]
  },
  {
   "cell_type": "code",
   "execution_count": 7,
   "metadata": {},
   "outputs": [],
   "source": [
    "# Create a list `family` that has a list of 3 of your family members' names in it\n"
   ]
  },
  {
   "cell_type": "code",
   "execution_count": 8,
   "metadata": {},
   "outputs": [],
   "source": [
    "# Use the `append` list method to add another family member to your `family` list\n"
   ]
  },
  {
   "cell_type": "code",
   "execution_count": 9,
   "metadata": {
    "scrolled": true
   },
   "outputs": [],
   "source": [
    "# Create and print a list `people` that contains your lists `friends` and `family`\n"
   ]
  },
  {
   "cell_type": "markdown",
   "metadata": {},
   "source": [
    "## Dictionaries\n",
    "A **dictionary** is an object stores a _key-value pair_ in python. You can create a dictionary by passing _colon separated_ pairs inside of curly braces (i.e., `dict = {'key':value}`)"
   ]
  },
  {
   "cell_type": "code",
   "execution_count": 10,
   "metadata": {
    "scrolled": true
   },
   "outputs": [],
   "source": [
    "# Create a dictionary `people_dict` that has a key for `family` and a key for `friends` (using values above)\n"
   ]
  },
  {
   "cell_type": "code",
   "execution_count": 11,
   "metadata": {},
   "outputs": [],
   "source": [
    "# Add a new key `coworkers` to your `people_dict` object (it should contain 3 names of coworkers) \n"
   ]
  },
  {
   "cell_type": "code",
   "execution_count": 12,
   "metadata": {},
   "outputs": [],
   "source": [
    "# Print your people_dict object\n"
   ]
  },
  {
   "cell_type": "code",
   "execution_count": 13,
   "metadata": {},
   "outputs": [],
   "source": [
    "# Create and print a variable `num_people_categories` that conatins the *number of keys* of your `people_dict` \n"
   ]
  },
  {
   "cell_type": "markdown",
   "metadata": {},
   "source": [
    "# Functions\n",
    "Functions are a series of executable steps stored in a variable. They can be created with the `def` keyword."
   ]
  },
  {
   "cell_type": "code",
   "execution_count": 14,
   "metadata": {},
   "outputs": [],
   "source": [
    "# Write a function `make_awesome` that adds the string \" is awesome!\" to the end of any parameter it is passed\n",
    "# Adds the string \" is awesome!\" to the end of any parameter that is passed then returns it\n",
    "\n"
   ]
  },
  {
   "cell_type": "code",
   "execution_count": 15,
   "metadata": {},
   "outputs": [],
   "source": [
    "# Pass \"Data Science\" to your function\n"
   ]
  },
  {
   "cell_type": "code",
   "execution_count": 16,
   "metadata": {},
   "outputs": [],
   "source": [
    "# Write a function `is_it_awesome` that returns a boolean (true/false) if a string has the word \"awesome\" in it\n",
    "# Returns true if the passed in string has the word \"awesome\" in it, false otherwise\n"
   ]
  },
  {
   "cell_type": "code",
   "execution_count": 17,
   "metadata": {},
   "outputs": [],
   "source": [
    "# Pass a phrase of your choice to the `is_it_great` function\n"
   ]
  },
  {
   "cell_type": "code",
   "execution_count": 18,
   "metadata": {},
   "outputs": [],
   "source": [
    "# Write a more general function `phrase_has_string` that takes in a `phrase` and a `string` and returns\n",
    "# A boolean indicating if the phrase contains the string. It should not be case sensitive.\n",
    "\n",
    "# Returns true if a phrase contains a given string, false otherwise\n"
   ]
  },
  {
   "cell_type": "code",
   "execution_count": 19,
   "metadata": {},
   "outputs": [],
   "source": [
    "# Test out your function\n"
   ]
  },
  {
   "cell_type": "code",
   "execution_count": 20,
   "metadata": {},
   "outputs": [],
   "source": [
    "# Define a function `count_relationships` that takes in a dictionary of relationships (such as `people_dict`)\n",
    "# And returns a dictionary of the number of relationships of each type (i.e. {\"friends\":4, \"family\":3})\n",
    "# Hint: use a loop\n",
    "\n",
    "# Takes in a dictionary and returns a new dictionary with the same keys and number of values per key\n"
   ]
  },
  {
   "cell_type": "code",
   "execution_count": 21,
   "metadata": {},
   "outputs": [],
   "source": [
    "# Pass `people_dict` to `count_relationships`\n"
   ]
  },
  {
   "cell_type": "code",
   "execution_count": 22,
   "metadata": {},
   "outputs": [],
   "source": [
    "# Define a function `total_relationships` take in a dictionary of relationships (such as `people_dict`)\n",
    "# And returns the total number of relationships\n",
    "# Hint: use a *list compression* and your `count_relationships` function (separately)\n"
   ]
  },
  {
   "cell_type": "code",
   "execution_count": 23,
   "metadata": {},
   "outputs": [],
   "source": [
    "# Use the `total_relationships` function to count the number of people in `people_dict`\n"
   ]
  }
 ],
 "metadata": {
  "kernelspec": {
   "display_name": "Python 3",
   "language": "python",
   "name": "python3"
  },
  "language_info": {
   "codemirror_mode": {
    "name": "ipython",
    "version": 3
   },
   "file_extension": ".py",
   "mimetype": "text/x-python",
   "name": "python",
   "nbconvert_exporter": "python",
   "pygments_lexer": "ipython3",
   "version": "3.6.4"
  }
 },
 "nbformat": 4,
 "nbformat_minor": 2
}
