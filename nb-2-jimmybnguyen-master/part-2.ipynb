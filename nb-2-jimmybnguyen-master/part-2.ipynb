{
 "cells": [
  {
   "cell_type": "markdown",
   "metadata": {},
   "source": [
    "# Health Burden"
   ]
  },
  {
   "cell_type": "markdown",
   "metadata": {},
   "source": [
    "## Set up"
   ]
  },
  {
   "cell_type": "code",
   "execution_count": 1,
   "metadata": {},
   "outputs": [],
   "source": [
    "# Read in data\n"
   ]
  },
  {
   "cell_type": "markdown",
   "metadata": {},
   "source": [
    "## Data Structure\n",
    "To get a basic sense of your dataset, check the following:\n",
    "\n",
    "- What is the size of the dataset (rows, columns)?\n",
    "- How many countries are present in the dataset?\n",
    "- What are the age-groups in the dataset?\n",
    "- What are the variables (columns) present in the dataset?\n",
    "- What is the data type of each variable?\n",
    "- What are the summary statistics of each quantitative variable (_hint: `describe()`_)\n",
    "\n",
    "Note the **count** for each column, and investigate why these may be inconsistent."
   ]
  },
  {
   "cell_type": "code",
   "execution_count": 2,
   "metadata": {},
   "outputs": [],
   "source": [
    "# What is the size of the dataset (rows, columns)?\n",
    "\n",
    "# How many countries are present in the dataset?\n",
    "\n",
    "# What are the age-groups in the dataset?\n",
    "\n",
    "# What are the variables (columns) present in the dataset?\n",
    "\n",
    "# What is the data type of each variable?\n",
    "\n",
    "# What are the summary statistics of each quantitative variable\n"
   ]
  },
  {
   "cell_type": "markdown",
   "metadata": {},
   "source": [
    "\n",
    "## Univariate Analysis\n",
    "To explore the distribution of each risk-column in a visual way, create a plot with multiple sub-plots where each sub-plot is a histogram of a risk-column. This [example](https://matplotlib.org/1.4.3/examples/statistics/histogram_demo_multihist.html) may be helpful.\n",
    "\n",
    "- Note what you find surprising!\n",
    "\n",
    "_Hint:_ You may want to use a loop to create each histogram\n",
    "\n",
    "_ Another hint_: You may have to **remove NaN values** to make your histograms"
   ]
  },
  {
   "cell_type": "code",
   "execution_count": null,
   "metadata": {
    "scrolled": false
   },
   "outputs": [],
   "source": []
  },
  {
   "cell_type": "markdown",
   "metadata": {},
   "source": [
    "## Univariate analysis (by age)\n",
    "In this section, you should **write a function** to investigate how a given risk (column) varies by **age group**. More specifically, the function should create a set of histograms (one for each age-group) to show the distribution of death rates across countries for a given risk factor.\n",
    "\n",
    "Make sure to **include a docstring** to describe your function."
   ]
  },
  {
   "cell_type": "code",
   "execution_count": 3,
   "metadata": {},
   "outputs": [],
   "source": [
    "# Write your function here\n",
    "\n"
   ]
  },
  {
   "cell_type": "code",
   "execution_count": 4,
   "metadata": {},
   "outputs": [],
   "source": [
    "# Demonstrate that your function works\n"
   ]
  },
  {
   "cell_type": "markdown",
   "metadata": {},
   "source": [
    "## Univariate analysis (by sex)\n",
    "In this section, you should investigate how a given risk (column) varies by **sex**. To do this, **write a function** to create a single histogram with _overlapping distributions_ for men and women (for a given risk factor). \n",
    "\n",
    "Make sure to include a **docstring**. \n",
    "\n",
    "_Hint_: turn down the _alpha_ (opacity) to help reduce occlusion in the chart. "
   ]
  },
  {
   "cell_type": "code",
   "execution_count": 5,
   "metadata": {},
   "outputs": [],
   "source": [
    "# Write your function here\n"
   ]
  },
  {
   "cell_type": "code",
   "execution_count": 6,
   "metadata": {},
   "outputs": [],
   "source": [
    "# Demonstrate that your function works!\n"
   ]
  },
  {
   "cell_type": "markdown",
   "metadata": {},
   "source": [
    "## Univariate analysis (by super_region)\n",
    "\n",
    "### Data Prep\n",
    "In this section, you should investigate how each risk (column) varies by **super_region**. In order to do this, you'll need to **convert death rates to deaths** by multiplying the death rate by the `pop` column. Then, aggregate the data using the **group by** function (grouping by `super_region`) to compute the total number of deaths. Then, you'll need to _convert back_ to death _rates_ by dividing each risk by the aggregated `pop` column.\n",
    "\n",
    "### Visualization\n",
    "Then, you should write **two functions** that visualize your **aggregated** dataset:\n",
    "\n",
    "1. For a given **risk factor**, show a bar chart of the death rate in each **super region**.\n",
    "2. For a given **super region**, show a bar chart of the death rate for each **risk**.\n",
    "\n",
    "Make sure to include a **docstring** for each function. "
   ]
  },
  {
   "cell_type": "code",
   "execution_count": 7,
   "metadata": {},
   "outputs": [],
   "source": [
    "# Do your data prep here\n"
   ]
  },
  {
   "cell_type": "code",
   "execution_count": 8,
   "metadata": {},
   "outputs": [],
   "source": [
    "# Write your functions here\n"
   ]
  },
  {
   "cell_type": "code",
   "execution_count": 9,
   "metadata": {},
   "outputs": [],
   "source": [
    "# Use your first function to show the smoking death rate in each region\n"
   ]
  },
  {
   "cell_type": "code",
   "execution_count": 10,
   "metadata": {},
   "outputs": [],
   "source": [
    "# User your second function to show the death rate for each risk in the \"South Asia\" region\n"
   ]
  },
  {
   "cell_type": "markdown",
   "metadata": {},
   "source": [
    "## Bivariate analysis\n",
    "As a final step, create a **scatterplot matrix** of all of your risks to visually assess the correlation across death rates. Hint: see [documentation](https://pandas.pydata.org/pandas-docs/stable/visualization.html#scatter-matrix-plot)."
   ]
  },
  {
   "cell_type": "code",
   "execution_count": 11,
   "metadata": {
    "scrolled": true
   },
   "outputs": [],
   "source": [
    "# Code goes here\n"
   ]
  }
 ],
 "metadata": {
  "kernelspec": {
   "display_name": "Python 3",
   "language": "python",
   "name": "python3"
  },
  "language_info": {
   "codemirror_mode": {
    "name": "ipython",
    "version": 3
   },
   "file_extension": ".py",
   "mimetype": "text/x-python",
   "name": "python",
   "nbconvert_exporter": "python",
   "pygments_lexer": "ipython3",
   "version": "3.6.4"
  }
 },
 "nbformat": 4,
 "nbformat_minor": 1
}
